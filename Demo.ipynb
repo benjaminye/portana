{
 "cells": [
  {
   "cell_type": "code",
   "execution_count": 1,
   "metadata": {},
   "outputs": [],
   "source": [
    "from portana.data import simulated"
   ]
  },
  {
   "cell_type": "code",
   "execution_count": 2,
   "metadata": {},
   "outputs": [],
   "source": [
    "eqt_connection = simulated.SimConnection()\n",
    "eqt_connection.set_asset_type(simulated.SimEquityAssetType())\n",
    "\n",
    "fund_connection = simulated.SimConnection()\n",
    "fund_connection.set_asset_type(simulated.SimEquityFundAssetType())"
   ]
  },
  {
   "cell_type": "code",
   "execution_count": 11,
   "metadata": {},
   "outputs": [],
   "source": [
    "security1 = eqt_connection.get_security('1233541', ('2019-01-01', '2019-12-31'))\n",
    "security2 = fund_connection.get_security('1233544', ('2019-01-01', '2019-12-31'))\n",
    "security3 = fund_connection.get_security('1933544', ('2019-01-01', '2019-12-31'))\n",
    "security4 = fund_connection.get_security('1733544', ('2019-01-01', '2019-12-31'))"
   ]
  },
  {
   "cell_type": "code",
   "execution_count": 12,
   "metadata": {},
   "outputs": [
    {
     "data": {
      "text/plain": [
       "(            1233541   1233544   1933544   1733544\n",
       " 2019-12-31      1.0 -0.016549  0.002768 -0.000417,\n",
       "             1233541\n",
       " 2019-12-31      1.0)"
      ]
     },
     "execution_count": 12,
     "metadata": {},
     "output_type": "execute_result"
    }
   ],
   "source": [
    "from portana.analyzer import equity_analyzer\n",
    "analyzer = equity_analyzer.EquityAnalyzer()\n",
    "analyzer.add_security(security1)\n",
    "analyzer.add_security(security2)\n",
    "analyzer.add_security(security3)\n",
    "analyzer.add_security(security4)\n",
    "\n",
    "analyzer.get_betas('px')"
   ]
  },
  {
   "cell_type": "code",
   "execution_count": 13,
   "metadata": {},
   "outputs": [],
   "source": [
    "from portana.portfolio import portfolio\n",
    "port = portfolio.Portfolio()\n",
    "\n",
    "port.add_security(security1, 0.1)\n",
    "port.add_security(security2, 0.25)\n",
    "port.add_security(security3, 0.30)\n",
    "port.add_security(security4, 0.35)\n",
    "\n",
    "port.set_rebal(False)\n",
    "port.set_starting_nav(100000)"
   ]
  },
  {
   "cell_type": "code",
   "execution_count": null,
   "metadata": {},
   "outputs": [],
   "source": [
    "security"
   ]
  },
  {
   "cell_type": "code",
   "execution_count": 14,
   "metadata": {},
   "outputs": [
    {
     "data": {
      "text/plain": [
       "ISIN:   Custom Portfolio \n",
       "----------------------------------------- \n",
       "Fees:  0.00355 \n",
       "----------------------------------------- \n",
       "Sector:  {'Technology': 0.6, 'Industrials': 0.0, 'Financials': 0.0} \n",
       "Geography:  {'United States': 2.0, 'Canada': 0.0} \n",
       "Strategy:  {'Growth': 0.0, 'Income': 1.4, 'Value': 0.0, 'Balanced': 0.0} \n",
       "Risk:  {'Low': 0.0, 'Medium': 0.0, 'High': 1.4} \n",
       "----------------------------------------- \n",
       "                    Price  Total Return Index\n",
       "2019-01-01  100000.000000       100000.000000\n",
       "2019-01-02   99372.713910        99448.292176\n",
       "2019-01-03  100479.592121       100631.173521\n",
       "2019-01-04   99652.960764        99879.350421\n",
       "2019-01-05  100207.574129       100510.710827\n",
       "...                   ...                 ...\n",
       "2019-12-27   97144.908962       127511.625912\n",
       "2019-12-28   96467.853764       126719.299781\n",
       "2019-12-29   96230.004861       126502.635863\n",
       "2019-12-30   96688.093373       127200.441195\n",
       "2019-12-31   96374.928736       126884.585506\n",
       "\n",
       "[365 rows x 2 columns]"
      ]
     },
     "execution_count": 14,
     "metadata": {},
     "output_type": "execute_result"
    }
   ],
   "source": [
    "port.securitize()"
   ]
  },
  {
   "cell_type": "code",
   "execution_count": null,
   "metadata": {},
   "outputs": [],
   "source": []
  }
 ],
 "metadata": {
  "kernelspec": {
   "display_name": "portana",
   "language": "python",
   "name": "portana"
  },
  "language_info": {
   "codemirror_mode": {
    "name": "ipython",
    "version": 3
   },
   "file_extension": ".py",
   "mimetype": "text/x-python",
   "name": "python",
   "nbconvert_exporter": "python",
   "pygments_lexer": "ipython3",
   "version": "3.8.5"
  }
 },
 "nbformat": 4,
 "nbformat_minor": 4
}
