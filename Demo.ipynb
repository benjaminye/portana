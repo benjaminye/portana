{
 "cells": [
  {
   "cell_type": "code",
   "execution_count": 1,
   "metadata": {},
   "outputs": [],
   "source": [
    "from portana.data import simulated"
   ]
  },
  {
   "cell_type": "code",
   "execution_count": 2,
   "metadata": {},
   "outputs": [],
   "source": [
    "eqt_connection = simulated.SimConnection()\n",
    "eqt_connection.set_asset_type(simulated.SimEquityAssetType())\n",
    "\n",
    "fund_connection = simulated.SimConnection()\n",
    "fund_connection.set_asset_type(simulated.SimEquityFundAssetType())"
   ]
  },
  {
   "cell_type": "code",
   "execution_count": 3,
   "metadata": {},
   "outputs": [],
   "source": [
    "security1 = eqt_connection.get_security('1233541', ('2019-01-01', '2019-12-31'))\n",
    "security2 = fund_connection.get_security('1233544', ('2019-01-01', '2019-12-31'))\n",
    "security3 = fund_connection.get_security('1923544', ('2019-01-01', '2019-12-31'))\n",
    "security4 = fund_connection.get_security('1713544', ('2019-01-01', '2019-12-31'))"
   ]
  },
  {
   "cell_type": "code",
   "execution_count": 4,
   "metadata": {},
   "outputs": [
    {
     "data": {
      "text/plain": [
       "(            1233541   1233544   1923544   1713544\n",
       " 2019-12-31      1.0 -0.016549  0.023893  0.003071,\n",
       "             1233541\n",
       " 2019-12-31      1.0)"
      ]
     },
     "execution_count": 4,
     "metadata": {},
     "output_type": "execute_result"
    }
   ],
   "source": [
    "from portana.analyzer import equity_analyzer\n",
    "analyzer = equity_analyzer.EquityAnalyzer()\n",
    "analyzer.add_security(security1)\n",
    "analyzer.add_security(security2)\n",
    "analyzer.add_security(security3)\n",
    "analyzer.add_security(security4)\n",
    "\n",
    "analyzer.get_betas('px')"
   ]
  },
  {
   "cell_type": "code",
   "execution_count": 5,
   "metadata": {},
   "outputs": [],
   "source": [
    "from portana.portfolio import portfolio\n",
    "port = portfolio.Portfolio()\n",
    "\n",
    "port.add_security(security1, 0.1)\n",
    "port.add_security(security2, 0.25)\n",
    "port.add_security(security3, 0.30)\n",
    "port.add_security(security4, 0.35)\n",
    "\n",
    "port.set_rebal(True, \"M\")\n",
    "port.set_starting_nav(100000)"
   ]
  },
  {
   "cell_type": "code",
   "execution_count": 7,
   "metadata": {},
   "outputs": [
    {
     "data": {
      "text/plain": [
       "array([1., 1., 1., 1., 1., 1., 1., 1., 1., 1., 1., 1., 1., 1., 1., 1., 1.,\n",
       "       1., 1., 1., 1., 1., 1., 1., 1., 1., 1., 1., 1., 1., 1., 1., 1., 1.,\n",
       "       1., 1., 1., 1., 1., 1., 1., 1., 1., 1., 1., 1., 1., 1., 1., 1., 1.,\n",
       "       1., 1., 1., 1., 1., 1., 1., 1., 1., 1., 1., 1., 1., 1., 1., 1., 1.,\n",
       "       1., 1., 1., 1., 1., 1., 1., 1., 1., 1., 1., 1., 1., 1., 1., 1., 1.,\n",
       "       1., 1., 1., 1., 1., 1., 1., 1., 1., 1., 1., 1., 1., 1., 1., 1., 1.,\n",
       "       1., 1., 1., 1., 1., 1., 1., 1., 1., 1., 1., 1., 1., 1., 1., 1., 1.,\n",
       "       1., 1., 1., 1., 1., 1., 1., 1., 1., 1., 1., 1., 1., 1., 1., 1., 1.,\n",
       "       1., 1., 1., 1., 1., 1., 1., 1., 1., 1., 1., 1., 1., 1., 1., 1., 1.,\n",
       "       1., 1., 1., 1., 1., 1., 1., 1., 1., 1., 1., 1., 1., 1., 1., 1., 1.,\n",
       "       1., 1., 1., 1., 1., 1., 1., 1., 1., 1., 1., 1., 1., 1., 1., 1., 1.,\n",
       "       1., 1., 1., 1., 1., 1., 1., 1., 1., 1., 1., 1., 1., 1., 1., 1., 1.,\n",
       "       1., 1., 1., 1., 1., 1., 1., 1., 1., 1., 1., 1., 1., 1., 1., 1., 1.,\n",
       "       1., 1., 1., 1., 1., 1., 1., 1., 1., 1., 1., 1., 1., 1., 1., 1., 1.,\n",
       "       1., 1., 1., 1., 1., 1., 1., 1., 1., 1., 1., 1., 1., 1., 1., 1., 1.,\n",
       "       1., 1., 1., 1., 1., 1., 1., 1., 1., 1., 1., 1., 1., 1., 1., 1., 1.,\n",
       "       1., 1., 1., 1., 1., 1., 1., 1., 1., 1., 1., 1., 1., 1., 1., 1., 1.,\n",
       "       1., 1., 1., 1., 1., 1., 1., 1., 1., 1., 1., 1., 1., 1., 1., 1., 1.,\n",
       "       1., 1., 1., 1., 1., 1., 1., 1., 1., 1., 1., 1., 1., 1., 1., 1., 1.,\n",
       "       1., 1., 1., 1., 1., 1., 1., 1., 1., 1., 1., 1., 1., 1., 1., 1., 1.,\n",
       "       1., 1., 1., 1., 1., 1., 1., 1., 1., 1., 1., 1., 1., 1., 1., 1., 1.,\n",
       "       1., 1., 1., 1., 1., 1., 1.])"
      ]
     },
     "execution_count": 7,
     "metadata": {},
     "output_type": "execute_result"
    }
   ],
   "source": [
    "port._weights_timeseries.sum(axis=1)"
   ]
  },
  {
   "cell_type": "code",
   "execution_count": 11,
   "metadata": {},
   "outputs": [],
   "source": [
    "import numpy as np"
   ]
  },
  {
   "cell_type": "code",
   "execution_count": 8,
   "metadata": {},
   "outputs": [],
   "source": [
    "rebal_dates = port.securities[0].timeseries.get_period_ends(\"M\").get_dates()"
   ]
  },
  {
   "cell_type": "code",
   "execution_count": null,
   "metadata": {},
   "outputs": [],
   "source": []
  },
  {
   "cell_type": "code",
   "execution_count": 9,
   "metadata": {},
   "outputs": [
    {
     "data": {
      "text/plain": [
       "array(['2019-01-31', '2019-02-28', '2019-03-31', '2019-04-30',\n",
       "       '2019-05-31', '2019-06-30', '2019-07-31', '2019-08-31',\n",
       "       '2019-09-30', '2019-10-31', '2019-11-30', '2019-12-31'],\n",
       "      dtype='datetime64[D]')"
      ]
     },
     "execution_count": 9,
     "metadata": {},
     "output_type": "execute_result"
    }
   ],
   "source": [
    "rebal_dates"
   ]
  },
  {
   "cell_type": "code",
   "execution_count": 12,
   "metadata": {},
   "outputs": [
    {
     "data": {
      "text/plain": [
       "[30, 58, 89, 119, 150, 180, 211, 242, 272, 303, 333, 364]"
      ]
     },
     "execution_count": 12,
     "metadata": {},
     "output_type": "execute_result"
    }
   ],
   "source": [
    "mask = np.isin(port._date_series, rebal_dates)\n",
    "array = list(np.argwhere(mask==True).flatten())\n",
    "array"
   ]
  },
  {
   "cell_type": "code",
   "execution_count": 28,
   "metadata": {},
   "outputs": [],
   "source": [
    "array.insert(0,0)\n",
    "array[-1] += 1"
   ]
  },
  {
   "cell_type": "code",
   "execution_count": 24,
   "metadata": {},
   "outputs": [
    {
     "data": {
      "text/plain": [
       "365"
      ]
     },
     "execution_count": 24,
     "metadata": {},
     "output_type": "execute_result"
    }
   ],
   "source": [
    "len(port._date_series)"
   ]
  },
  {
   "cell_type": "code",
   "execution_count": null,
   "metadata": {},
   "outputs": [],
   "source": []
  },
  {
   "cell_type": "code",
   "execution_count": null,
   "metadata": {},
   "outputs": [],
   "source": []
  },
  {
   "cell_type": "code",
   "execution_count": 20,
   "metadata": {},
   "outputs": [
    {
     "data": {
      "text/plain": [
       "364"
      ]
     },
     "execution_count": 20,
     "metadata": {},
     "output_type": "execute_result"
    }
   ],
   "source": [
    "len(port._weights_timeseries)"
   ]
  },
  {
   "cell_type": "code",
   "execution_count": 29,
   "metadata": {},
   "outputs": [
    {
     "data": {
      "text/plain": [
       "365"
      ]
     },
     "execution_count": 29,
     "metadata": {},
     "output_type": "execute_result"
    }
   ],
   "source": [
    "length = 0\n",
    "for idx, i in enumerate(array[:-1]):\n",
    "    length += len(port._date_series[i: array[idx + 1]])\n",
    "length"
   ]
  },
  {
   "cell_type": "code",
   "execution_count": 70,
   "metadata": {},
   "outputs": [],
   "source": [
    "n_a = []"
   ]
  },
  {
   "cell_type": "code",
   "execution_count": 71,
   "metadata": {},
   "outputs": [
    {
     "ename": "IndexError",
     "evalue": "list assignment index out of range",
     "output_type": "error",
     "traceback": [
      "\u001b[1;31m---------------------------------------------------------------------------\u001b[0m",
      "\u001b[1;31mIndexError\u001b[0m                                Traceback (most recent call last)",
      "\u001b[1;32m<ipython-input-71-1a5845f807bd>\u001b[0m in \u001b[0;36m<module>\u001b[1;34m\u001b[0m\n\u001b[1;32m----> 1\u001b[1;33m \u001b[0mn_a\u001b[0m\u001b[1;33m[\u001b[0m\u001b[1;36m0\u001b[0m\u001b[1;33m]\u001b[0m \u001b[1;33m=\u001b[0m \u001b[1;36m5\u001b[0m\u001b[1;33m\u001b[0m\u001b[1;33m\u001b[0m\u001b[0m\n\u001b[0m",
      "\u001b[1;31mIndexError\u001b[0m: list assignment index out of range"
     ]
    }
   ],
   "source": []
  },
  {
   "cell_type": "code",
   "execution_count": 66,
   "metadata": {},
   "outputs": [],
   "source": [
    "new_w = np.zeros((0,4), dtype=np.float64)"
   ]
  },
  {
   "cell_type": "code",
   "execution_count": 67,
   "metadata": {},
   "outputs": [
    {
     "data": {
      "text/plain": [
       "array([], shape=(0, 4), dtype=float64)"
      ]
     },
     "execution_count": 67,
     "metadata": {},
     "output_type": "execute_result"
    }
   ],
   "source": [
    "new_w"
   ]
  },
  {
   "cell_type": "code",
   "execution_count": 68,
   "metadata": {},
   "outputs": [
    {
     "data": {
      "text/plain": [
       "(30, 4)"
      ]
     },
     "execution_count": 68,
     "metadata": {},
     "output_type": "execute_result"
    }
   ],
   "source": [
    "trial_weight = port._weights_timeseries[0:30]\n",
    "trial_weight.shape"
   ]
  },
  {
   "cell_type": "code",
   "execution_count": 69,
   "metadata": {},
   "outputs": [
    {
     "data": {
      "text/plain": [
       "array([[0.1 , 0.25, 0.3 , 0.35],\n",
       "       [0.1 , 0.25, 0.3 , 0.35],\n",
       "       [0.1 , 0.25, 0.3 , 0.35],\n",
       "       [0.1 , 0.25, 0.3 , 0.35],\n",
       "       [0.1 , 0.25, 0.3 , 0.35],\n",
       "       [0.1 , 0.25, 0.3 , 0.35],\n",
       "       [0.1 , 0.25, 0.3 , 0.35],\n",
       "       [0.1 , 0.25, 0.3 , 0.35],\n",
       "       [0.1 , 0.25, 0.3 , 0.35],\n",
       "       [0.1 , 0.25, 0.3 , 0.35],\n",
       "       [0.1 , 0.25, 0.3 , 0.35],\n",
       "       [0.1 , 0.25, 0.3 , 0.35],\n",
       "       [0.1 , 0.25, 0.3 , 0.35],\n",
       "       [0.1 , 0.25, 0.3 , 0.35],\n",
       "       [0.1 , 0.25, 0.3 , 0.35],\n",
       "       [0.1 , 0.25, 0.3 , 0.35],\n",
       "       [0.1 , 0.25, 0.3 , 0.35],\n",
       "       [0.1 , 0.25, 0.3 , 0.35],\n",
       "       [0.1 , 0.25, 0.3 , 0.35],\n",
       "       [0.1 , 0.25, 0.3 , 0.35],\n",
       "       [0.1 , 0.25, 0.3 , 0.35],\n",
       "       [0.1 , 0.25, 0.3 , 0.35],\n",
       "       [0.1 , 0.25, 0.3 , 0.35],\n",
       "       [0.1 , 0.25, 0.3 , 0.35],\n",
       "       [0.1 , 0.25, 0.3 , 0.35],\n",
       "       [0.1 , 0.25, 0.3 , 0.35],\n",
       "       [0.1 , 0.25, 0.3 , 0.35],\n",
       "       [0.1 , 0.25, 0.3 , 0.35],\n",
       "       [0.1 , 0.25, 0.3 , 0.35],\n",
       "       [0.1 , 0.25, 0.3 , 0.35]])"
      ]
     },
     "execution_count": 69,
     "metadata": {},
     "output_type": "execute_result"
    }
   ],
   "source": [
    "np.vstack((new_w, trial_weight))"
   ]
  },
  {
   "cell_type": "code",
   "execution_count": null,
   "metadata": {},
   "outputs": [],
   "source": []
  },
  {
   "cell_type": "code",
   "execution_count": null,
   "metadata": {},
   "outputs": [],
   "source": []
  },
  {
   "cell_type": "code",
   "execution_count": null,
   "metadata": {},
   "outputs": [],
   "source": []
  },
  {
   "cell_type": "code",
   "execution_count": null,
   "metadata": {},
   "outputs": [],
   "source": []
  },
  {
   "cell_type": "code",
   "execution_count": null,
   "metadata": {},
   "outputs": [],
   "source": []
  },
  {
   "cell_type": "code",
   "execution_count": null,
   "metadata": {},
   "outputs": [],
   "source": []
  }
 ],
 "metadata": {
  "kernelspec": {
   "display_name": "portana",
   "language": "python",
   "name": "portana"
  },
  "language_info": {
   "codemirror_mode": {
    "name": "ipython",
    "version": 3
   },
   "file_extension": ".py",
   "mimetype": "text/x-python",
   "name": "python",
   "nbconvert_exporter": "python",
   "pygments_lexer": "ipython3",
   "version": "3.8.5"
  }
 },
 "nbformat": 4,
 "nbformat_minor": 4
}
