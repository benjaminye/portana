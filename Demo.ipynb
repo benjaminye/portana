{
 "cells": [
  {
   "cell_type": "code",
   "execution_count": 1,
   "metadata": {},
   "outputs": [],
   "source": [
    "from portana.data import simulated"
   ]
  },
  {
   "cell_type": "code",
   "execution_count": 2,
   "metadata": {},
   "outputs": [],
   "source": [
    "connection = simulated.SimConnection()\n",
    "connection.set_description_type(simulated.EquityDescription())"
   ]
  },
  {
   "cell_type": "code",
   "execution_count": 3,
   "metadata": {},
   "outputs": [
    {
     "name": "stdout",
     "output_type": "stream",
     "text": [
      "ISIN:   151253341 \n",
      "----------------------------------------- \n",
      "Ticker:  YC \n",
      "Sector:  Financials \n",
      "Geography:  United States \n",
      "----------------------------------------- \n",
      "                 Price\n",
      "2019-01-01  100.000000\n",
      "2019-01-02  117.237874\n",
      "2019-01-03  115.133377\n",
      "2019-01-04   96.978937\n",
      "2019-01-05   94.186778\n",
      "...                ...\n",
      "2019-12-26   91.525214\n",
      "2019-12-27   84.357159\n",
      "2019-12-28   90.540573\n",
      "2019-12-29   70.618944\n",
      "2019-12-30   77.648172\n",
      "\n",
      "[364 rows x 1 columns]\n"
     ]
    }
   ],
   "source": [
    "security = connection.get_security('151253341', ('2019-01-01', '2019-12-31'))\n",
    "print(security)"
   ]
  },
  {
   "cell_type": "code",
   "execution_count": 7,
   "metadata": {},
   "outputs": [
    {
     "data": {
      "text/plain": [
       "portana.data.simulated.Equity"
      ]
     },
     "execution_count": 7,
     "metadata": {},
     "output_type": "execute_result"
    }
   ],
   "source": [
    "security.__class__"
   ]
  },
  {
   "cell_type": "code",
   "execution_count": null,
   "metadata": {},
   "outputs": [],
   "source": []
  },
  {
   "cell_type": "code",
   "execution_count": 13,
   "metadata": {},
   "outputs": [],
   "source": [
    "import pandas as pd\n",
    "\n",
    "df = pd.DataFrame(data=security.timeseries.prices, index=security.timeseries.dates, columns=['Price'])"
   ]
  },
  {
   "cell_type": "code",
   "execution_count": 21,
   "metadata": {},
   "outputs": [
    {
     "data": {
      "text/plain": [
       "(                 Price\n",
       " 2019-01-01  100.000000\n",
       " 2019-01-02   89.600159\n",
       " 2019-01-03   96.324214\n",
       " 2019-01-04  105.384129\n",
       " 2019-01-05   84.823315\n",
       " ...                ...\n",
       " 2019-12-26   13.932370\n",
       " 2019-12-27   13.719870\n",
       " 2019-12-28   14.245881\n",
       " 2019-12-29   15.670219\n",
       " 2019-12-30   14.011470\n",
       " \n",
       " [364 rows x 1 columns],\n",
       " {'foo': 'bar'})"
      ]
     },
     "execution_count": 21,
     "metadata": {},
     "output_type": "execute_result"
    }
   ],
   "source": [
    "df, {'foo': 'bar'}"
   ]
  },
  {
   "cell_type": "code",
   "execution_count": 16,
   "metadata": {},
   "outputs": [
    {
     "name": "stdout",
     "output_type": "stream",
     "text": [
      "2\n",
      "2\n",
      "2\n",
      "2\n",
      "2\n"
     ]
    }
   ],
   "source": [
    "import random\n",
    "\n",
    "for i in range(5):\n",
    "    random.seed(a=5)\n",
    "    print(random.choice([5,3,2])) "
   ]
  },
  {
   "cell_type": "code",
   "execution_count": null,
   "metadata": {},
   "outputs": [],
   "source": []
  },
  {
   "cell_type": "code",
   "execution_count": null,
   "metadata": {},
   "outputs": [],
   "source": []
  }
 ],
 "metadata": {
  "kernelspec": {
   "display_name": "portana",
   "language": "python",
   "name": "portana"
  },
  "language_info": {
   "codemirror_mode": {
    "name": "ipython",
    "version": 3
   },
   "file_extension": ".py",
   "mimetype": "text/x-python",
   "name": "python",
   "nbconvert_exporter": "python",
   "pygments_lexer": "ipython3",
   "version": "3.8.5"
  }
 },
 "nbformat": 4,
 "nbformat_minor": 4
}
