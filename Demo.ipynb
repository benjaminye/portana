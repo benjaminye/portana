{
 "cells": [
  {
   "cell_type": "code",
   "execution_count": 1,
   "metadata": {},
   "outputs": [],
   "source": [
    "from portana.data import simulated"
   ]
  },
  {
   "cell_type": "code",
   "execution_count": 2,
   "metadata": {},
   "outputs": [],
   "source": [
    "eqt_connection = simulated.SimConnection()\n",
    "eqt_connection.set_asset_type(simulated.SimEquityAssetType())\n",
    "\n",
    "fund_connection = simulated.SimConnection()\n",
    "fund_connection.set_asset_type(simulated.SimEquityFundAssetType())"
   ]
  },
  {
   "cell_type": "code",
   "execution_count": 3,
   "metadata": {},
   "outputs": [],
   "source": [
    "security1 = eqt_connection.get_security('1233541', ('2019-01-01', '2019-12-31'))\n",
    "security2 = fund_connection.get_security('1233544', ('2018-10-01', '2019-11-30'))"
   ]
  },
  {
   "cell_type": "code",
   "execution_count": 4,
   "metadata": {},
   "outputs": [
    {
     "data": {
      "text/plain": [
       "ISIN:   1233541 \n",
       "----------------------------------------- \n",
       "Name:  Simulated Security 1233541 \n",
       "Ticker:  FR \n",
       "----------------------------------------- \n",
       "Sector:  Technology \n",
       "Geography:  United States \n",
       "----------------------------------------- \n",
       "                 Price  Total Return Index\n",
       "2019-01-01  924.093614          100.000000\n",
       "2019-01-02  845.102444           91.914047\n",
       "2019-01-03  918.546539          100.326539\n",
       "2019-01-04  864.300773           94.865163\n",
       "2019-01-05  917.404540          101.132088\n",
       "...                ...                 ...\n",
       "2019-12-27  513.673706          293.516820\n",
       "2019-12-28  480.613144          275.981852\n",
       "2019-12-29  460.257747          265.568260\n",
       "2019-12-30  492.300863          285.284055\n",
       "2019-12-31  487.920513          284.063718\n",
       "\n",
       "[365 rows x 2 columns]"
      ]
     },
     "execution_count": 4,
     "metadata": {},
     "output_type": "execute_result"
    }
   ],
   "source": [
    "security1"
   ]
  },
  {
   "cell_type": "code",
   "execution_count": 5,
   "metadata": {},
   "outputs": [
    {
     "data": {
      "text/plain": [
       "ISIN:   1233544 \n",
       "----------------------------------------- \n",
       "Name:  Simulated Security 1233544 \n",
       "Fee:  0.005 \n",
       "----------------------------------------- \n",
       "Geography:  United States \n",
       "Strategy:  Income \n",
       "Risk:  High \n",
       "----------------------------------------- \n",
       "                Price  Total Return Index\n",
       "2018-10-01  62.173617          100.000000\n",
       "2018-10-02  62.594252          100.725243\n",
       "2018-10-03  62.810799          101.122753\n",
       "2018-10-04  62.255094          100.277333\n",
       "2018-10-05  62.566743          100.828150\n",
       "...               ...                 ...\n",
       "2019-11-26  64.507368          127.352289\n",
       "2019-11-27  64.269114          126.943934\n",
       "2019-11-28  64.015723          126.505253\n",
       "2019-11-29  63.960664          126.458048\n",
       "2019-11-30  63.931981          126.462916\n",
       "\n",
       "[426 rows x 2 columns]"
      ]
     },
     "execution_count": 5,
     "metadata": {},
     "output_type": "execute_result"
    }
   ],
   "source": [
    "security2"
   ]
  },
  {
   "cell_type": "code",
   "execution_count": 6,
   "metadata": {},
   "outputs": [
    {
     "data": {
      "text/plain": [
       "(            1233541   1233544\n",
       " 2019-11-30      1.0 -0.006736,\n",
       "             1233541\n",
       " 2019-11-30      1.0)"
      ]
     },
     "execution_count": 6,
     "metadata": {},
     "output_type": "execute_result"
    }
   ],
   "source": [
    "from portana.analyzer import equity_analyzer\n",
    "analyzer = equity_analyzer.EquityAnalyzer()\n",
    "analyzer.add_security(security1)\n",
    "analyzer.add_security(security2)\n",
    "analyzer.get_betas('px')"
   ]
  },
  {
   "cell_type": "code",
   "execution_count": 7,
   "metadata": {},
   "outputs": [],
   "source": [
    "from portana.portfolio import portfolio\n",
    "port = portfolio.Portfolio()\n",
    "port.add_security(security1, 0.5)\n",
    "port.add_security(security2, 0.5)\n",
    "port.set_rebal(False)\n",
    "port.set_starting_nav(100000)"
   ]
  },
  {
   "cell_type": "code",
   "execution_count": 10,
   "metadata": {},
   "outputs": [
    {
     "data": {
      "text/plain": [
       "ISIN:   Custom Portfolio \n",
       "----------------------------------------- \n",
       "Fees:  0.0025 \n",
       "----------------------------------------- \n",
       "Sector:  {'Technology': 0.5, 'Industrials': 0.0, 'Financials': 0.0} \n",
       "Geography:  {'United States': 1.0, 'Canada': 0.0} \n",
       "Strategy:  {'Growth': 0.0, 'Income': 0.5, 'Value': 0.0, 'Balanced': 0.0} \n",
       "Risk:  {'Low': 0.0, 'Medium': 0.0, 'High': 0.5} \n",
       "----------------------------------------- \n",
       "                    Price  Total Return Index\n",
       "2019-01-01  100000.000000       100000.000000\n",
       "2019-01-02   96049.183217        96284.768138\n",
       "2019-01-03   99706.848656       100178.237320\n",
       "2019-01-04   97272.487014        97968.371455\n",
       "2019-01-05   99820.945356       100765.860101\n",
       "...                   ...                 ...\n",
       "2019-11-26   87765.586937       190435.820553\n",
       "2019-11-27   85932.571978       186907.139955\n",
       "2019-11-28   88882.890605       193764.538329\n",
       "2019-11-29   87834.839400       191936.268658\n",
       "2019-11-30   88479.611233       193797.393873\n",
       "\n",
       "[334 rows x 2 columns]"
      ]
     },
     "execution_count": 10,
     "metadata": {},
     "output_type": "execute_result"
    }
   ],
   "source": [
    "port.securitize()"
   ]
  }
 ],
 "metadata": {
  "kernelspec": {
   "display_name": "portana",
   "language": "python",
   "name": "portana"
  },
  "language_info": {
   "codemirror_mode": {
    "name": "ipython",
    "version": 3
   },
   "file_extension": ".py",
   "mimetype": "text/x-python",
   "name": "python",
   "nbconvert_exporter": "python",
   "pygments_lexer": "ipython3",
   "version": "3.8.5"
  }
 },
 "nbformat": 4,
 "nbformat_minor": 4
}
