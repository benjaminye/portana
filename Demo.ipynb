{
 "cells": [
  {
   "cell_type": "code",
   "execution_count": 1,
   "metadata": {},
   "outputs": [],
   "source": [
    "import numpy as np"
   ]
  },
  {
   "cell_type": "code",
   "execution_count": 70,
   "metadata": {},
   "outputs": [],
   "source": [
    "class SimDataConnection:\n",
    "    def get_prices(self, start_date:str, end_date:str) -> (np.ndarray, np.ndarray):\n",
    "        days_delta = np.datetime64(end_date) - np.datetime64(start_date)\n",
    "        days_delta = days_delta.astype('timedelta64[D]') // np.timedelta64(1, 'D')\n",
    "        \n",
    "        dates = np.array(start_date, dtype=np.datetime64)\n",
    "        dates = dates + np.arange(days_delta)\n",
    "        \n",
    "        prices = np.random.default_rng().normal(0, 0.1, days_delta) + 1\n",
    "        prices[0] = 100\n",
    "        prices = np.cumprod(prices)\n",
    "        \n",
    "        return dates, prices\n",
    "    \n",
    "    def get_desc(self) -> dict:\n",
    "        descriptions = {}\n",
    "        \n",
    "        pass"
   ]
  },
  {
   "cell_type": "code",
   "execution_count": 72,
   "metadata": {},
   "outputs": [],
   "source": [
    "class SimDescription"
   ]
  },
  {
   "cell_type": "code",
   "execution_count": null,
   "metadata": {},
   "outputs": [],
   "source": []
  },
  {
   "cell_type": "code",
   "execution_count": 17,
   "metadata": {},
   "outputs": [],
   "source": [
    "from portana.Data import SimData"
   ]
  },
  {
   "cell_type": "code",
   "execution_count": 19,
   "metadata": {},
   "outputs": [],
   "source": [
    "connection = SimData.SimConnection()"
   ]
  },
  {
   "cell_type": "code",
   "execution_count": 22,
   "metadata": {},
   "outputs": [
    {
     "data": {
      "text/plain": [
       "<portana.Data.SimData.SimTimeSeries at 0x21773612a00>"
      ]
     },
     "execution_count": 22,
     "metadata": {},
     "output_type": "execute_result"
    }
   ],
   "source": [
    "connection.get_prices('2019-01-01', '2019-12-31')"
   ]
  },
  {
   "cell_type": "code",
   "execution_count": null,
   "metadata": {},
   "outputs": [],
   "source": []
  }
 ],
 "metadata": {
  "kernelspec": {
   "display_name": "portana",
   "language": "python",
   "name": "portana"
  },
  "language_info": {
   "codemirror_mode": {
    "name": "ipython",
    "version": 3
   },
   "file_extension": ".py",
   "mimetype": "text/x-python",
   "name": "python",
   "nbconvert_exporter": "python",
   "pygments_lexer": "ipython3",
   "version": "3.8.5"
  }
 },
 "nbformat": 4,
 "nbformat_minor": 4
}
