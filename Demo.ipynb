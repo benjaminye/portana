{
 "cells": [
  {
   "cell_type": "code",
   "execution_count": 1,
   "metadata": {},
   "outputs": [],
   "source": [
    "from portana.data import simulated"
   ]
  },
  {
   "cell_type": "code",
   "execution_count": 2,
   "metadata": {},
   "outputs": [],
   "source": [
    "eqt_connection = simulated.SimConnection()\n",
    "eqt_connection.set_asset_type(simulated.SimEquityAssetType())\n",
    "\n",
    "fund_connection = simulated.SimConnection()\n",
    "fund_connection.set_asset_type(simulated.SimEquityFundAssetType())"
   ]
  },
  {
   "cell_type": "code",
   "execution_count": 3,
   "metadata": {},
   "outputs": [],
   "source": [
    "security1 = eqt_connection.get_security('1233541', ('2019-01-01', '2019-12-31'))\n",
    "security2 = fund_connection.get_security('1233544', ('2019-01-01', '2019-12-31'))\n",
    "security3 = fund_connection.get_security('1923544', ('2019-01-01', '2019-12-31'))\n",
    "security4 = fund_connection.get_security('1713544', ('2019-01-01', '2019-12-31'))"
   ]
  },
  {
   "cell_type": "code",
   "execution_count": 4,
   "metadata": {},
   "outputs": [
    {
     "data": {
      "text/plain": [
       "(            1233541   1233544   1923544   1713544\n",
       " 2019-12-31      1.0 -0.016549  0.023893  0.003071,\n",
       "             1233541\n",
       " 2019-12-31      1.0)"
      ]
     },
     "execution_count": 4,
     "metadata": {},
     "output_type": "execute_result"
    }
   ],
   "source": [
    "from portana.analyzer import equity_analyzer\n",
    "analyzer = equity_analyzer.EquityAnalyzer()\n",
    "analyzer.add_security(security1)\n",
    "analyzer.add_security(security2)\n",
    "analyzer.add_security(security3)\n",
    "analyzer.add_security(security4)\n",
    "\n",
    "analyzer.get_betas('px')"
   ]
  },
  {
   "cell_type": "code",
   "execution_count": 5,
   "metadata": {},
   "outputs": [],
   "source": [
    "from portana.portfolio import portfolio\n",
    "port = portfolio.Portfolio()\n",
    "\n",
    "port.add_security(security1, 0.1)\n",
    "port.add_security(security2, 0.25)\n",
    "port.add_security(security3, 0.30)\n",
    "port.add_security(security4, 0.35)\n",
    "\n",
    "port.set_rebal(True, \"M\")\n",
    "port.set_starting_nav(100000)"
   ]
  },
  {
   "cell_type": "code",
   "execution_count": 4,
   "metadata": {},
   "outputs": [
    {
     "data": {
      "text/plain": [
       "[                 Price  Total Return Index\n",
       " 2019-01-01  924.093614          100.000000\n",
       " 2019-01-02  845.102444           91.914047\n",
       " 2019-01-03  918.546539          100.326539\n",
       " 2019-01-04  864.300773           94.865163\n",
       " 2019-01-05  917.404540          101.132088\n",
       " ...                ...                 ...\n",
       " 2019-03-27  886.791482          142.076061\n",
       " 2019-03-28  895.670863          144.155062\n",
       " 2019-03-29  850.299106          137.518647\n",
       " 2019-03-30  878.635976          142.736910\n",
       " 2019-03-31  925.191470          150.959439\n",
       " \n",
       " [90 rows x 2 columns],\n",
       "                  Price  Total Return Index\n",
       " 2019-04-01  950.253190          155.746096\n",
       " 2019-04-02  953.243021          156.955689\n",
       " 2019-04-03  960.086440          158.807637\n",
       " 2019-04-04  981.677114          163.112650\n",
       " 2019-04-05  924.574219          154.378192\n",
       " ...                ...                 ...\n",
       " 2019-06-26  769.128256          187.670031\n",
       " 2019-06-27  801.361737          196.402167\n",
       " 2019-06-28  807.264128          198.756153\n",
       " 2019-06-29  762.802346          188.727508\n",
       " 2019-06-30  718.052631          178.527768\n",
       " \n",
       " [91 rows x 2 columns],\n",
       "                  Price  Total Return Index\n",
       " 2019-07-01  672.313099          167.980467\n",
       " 2019-07-02  658.377945          165.274791\n",
       " 2019-07-03  636.332591          160.504257\n",
       " 2019-07-04  630.747719          159.837110\n",
       " 2019-07-05  628.568005          160.023213\n",
       " ...                ...                 ...\n",
       " 2019-09-26  555.712322          207.601293\n",
       " 2019-09-27  596.863835          223.933685\n",
       " 2019-09-28  546.701509          206.148182\n",
       " 2019-09-29  522.548409          197.993043\n",
       " 2019-09-30  522.758860          198.987529\n",
       " \n",
       " [92 rows x 2 columns],\n",
       "                  Price  Total Return Index\n",
       " 2019-10-01  476.640012          182.351785\n",
       " 2019-10-02  501.200533          192.590571\n",
       " 2019-10-03  518.165197          199.999173\n",
       " 2019-10-04  491.579288          190.661672\n",
       " 2019-10-05  478.980721          186.656124\n",
       " ...                ...                 ...\n",
       " 2019-12-27  513.673706          293.516820\n",
       " 2019-12-28  480.613144          275.981852\n",
       " 2019-12-29  460.257747          265.568260\n",
       " 2019-12-30  492.300863          285.284055\n",
       " 2019-12-31  487.920513          284.063718\n",
       " \n",
       " [92 rows x 2 columns]]"
      ]
     },
     "execution_count": 4,
     "metadata": {},
     "output_type": "execute_result"
    }
   ],
   "source": [
    "l = security1.timeseries.split_quarter()\n",
    "l"
   ]
  },
  {
   "cell_type": "code",
   "execution_count": null,
   "metadata": {},
   "outputs": [],
   "source": []
  },
  {
   "cell_type": "code",
   "execution_count": null,
   "metadata": {},
   "outputs": [],
   "source": []
  }
 ],
 "metadata": {
  "kernelspec": {
   "display_name": "portana",
   "language": "python",
   "name": "portana"
  },
  "language_info": {
   "codemirror_mode": {
    "name": "ipython",
    "version": 3
   },
   "file_extension": ".py",
   "mimetype": "text/x-python",
   "name": "python",
   "nbconvert_exporter": "python",
   "pygments_lexer": "ipython3",
   "version": "3.8.5"
  }
 },
 "nbformat": 4,
 "nbformat_minor": 4
}
