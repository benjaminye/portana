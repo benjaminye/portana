{
 "cells": [
  {
   "cell_type": "code",
   "execution_count": 1,
   "metadata": {},
   "outputs": [],
   "source": [
    "from portana.data import simulated"
   ]
  },
  {
   "cell_type": "code",
   "execution_count": 2,
   "metadata": {},
   "outputs": [],
   "source": [
    "eqt_connection = simulated.SimConnection()\n",
    "eqt_connection.set_asset_type(simulated.SimEquityAssetType())\n",
    "\n",
    "fund_connection = simulated.SimConnection()\n",
    "fund_connection.set_asset_type(simulated.SimEquityFundAssetType())"
   ]
  },
  {
   "cell_type": "code",
   "execution_count": 3,
   "metadata": {},
   "outputs": [],
   "source": [
    "security1 = eqt_connection.get_security('1233541', ('2019-01-01', '2019-12-31'))\n",
    "security2 = fund_connection.get_security('1233544', ('2019-01-01', '2019-12-31'))\n",
    "security3 = fund_connection.get_security('1923544', ('2019-01-01', '2019-12-31'))\n",
    "security4 = fund_connection.get_security('1713544', ('2019-01-01', '2019-12-31'))"
   ]
  },
  {
   "cell_type": "code",
   "execution_count": 4,
   "metadata": {},
   "outputs": [
    {
     "data": {
      "text/plain": [
       "(            1233541   1233544   1923544   1713544\n",
       " 2019-12-31      1.0 -0.016549  0.023893  0.003071,\n",
       "             1233541\n",
       " 2019-12-31      1.0)"
      ]
     },
     "execution_count": 4,
     "metadata": {},
     "output_type": "execute_result"
    }
   ],
   "source": [
    "from portana.analyzer import equity_analyzer\n",
    "analyzer = equity_analyzer.EquityAnalyzer()\n",
    "analyzer.add_security(security1)\n",
    "analyzer.add_security(security2)\n",
    "analyzer.add_security(security3)\n",
    "analyzer.add_security(security4)\n",
    "\n",
    "analyzer.get_betas('px')"
   ]
  },
  {
   "cell_type": "code",
   "execution_count": 5,
   "metadata": {},
   "outputs": [],
   "source": [
    "from portana.portfolio import portfolio\n",
    "port = portfolio.Portfolio()\n",
    "\n",
    "port.add_security(security1, 0.1)\n",
    "port.add_security(security2, 0.25)\n",
    "port.add_security(security3, 0.30)\n",
    "port.add_security(security4, 0.35)\n",
    "\n",
    "port.set_rebal(False)\n",
    "port.set_starting_nav(100000)"
   ]
  },
  {
   "cell_type": "code",
   "execution_count": 12,
   "metadata": {},
   "outputs": [
    {
     "data": {
      "text/plain": [
       "{'sector': {'Technology': [('1233541', 0.1)]},\n",
       " 'geography': {'United States': [('1233541', 0.1), ('1233544', 0.25)],\n",
       "  'Canada': [('1923544', 0.3), ('1713544', 0.35)]},\n",
       " 'strategy': {'Income': [('1233544', 0.25)],\n",
       "  'Balanced': [('1923544', 0.3), ('1713544', 0.35)]},\n",
       " 'risk': {'High': [('1233544', 0.25)],\n",
       "  'Low': [('1923544', 0.3), ('1713544', 0.35)]}}"
      ]
     },
     "execution_count": 12,
     "metadata": {},
     "output_type": "execute_result"
    }
   ],
   "source": [
    "port.get_exposures_detailed()"
   ]
  },
  {
   "cell_type": "code",
   "execution_count": null,
   "metadata": {},
   "outputs": [],
   "source": []
  },
  {
   "cell_type": "code",
   "execution_count": 51,
   "metadata": {},
   "outputs": [],
   "source": [
    "a = {\"foo\": 2}"
   ]
  },
  {
   "cell_type": "code",
   "execution_count": 52,
   "metadata": {},
   "outputs": [
    {
     "data": {
      "text/plain": [
       "5"
      ]
     },
     "execution_count": 52,
     "metadata": {},
     "output_type": "execute_result"
    }
   ],
   "source": [
    "a.setdefault(\"bar\", 0)+5"
   ]
  },
  {
   "cell_type": "code",
   "execution_count": 50,
   "metadata": {},
   "outputs": [
    {
     "data": {
      "text/plain": [
       "{'foo': 2, 'bar': 0}"
      ]
     },
     "execution_count": 50,
     "metadata": {},
     "output_type": "execute_result"
    }
   ],
   "source": [
    "a"
   ]
  },
  {
   "cell_type": "code",
   "execution_count": null,
   "metadata": {},
   "outputs": [],
   "source": []
  }
 ],
 "metadata": {
  "kernelspec": {
   "display_name": "portana",
   "language": "python",
   "name": "portana"
  },
  "language_info": {
   "codemirror_mode": {
    "name": "ipython",
    "version": 3
   },
   "file_extension": ".py",
   "mimetype": "text/x-python",
   "name": "python",
   "nbconvert_exporter": "python",
   "pygments_lexer": "ipython3",
   "version": "3.8.5"
  }
 },
 "nbformat": 4,
 "nbformat_minor": 4
}
