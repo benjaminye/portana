{
 "cells": [
  {
   "cell_type": "code",
   "execution_count": 1,
   "metadata": {},
   "outputs": [],
   "source": [
    "from portana.data import simulated"
   ]
  },
  {
   "cell_type": "code",
   "execution_count": 2,
   "metadata": {},
   "outputs": [],
   "source": [
    "eqt_connection = simulated.SimConnection()\n",
    "eqt_connection.set_asset_type(simulated.SimEquityAssetType())\n",
    "\n",
    "fund_connection = simulated.SimConnection()\n",
    "fund_connection.set_asset_type(simulated.SimEquityFundAssetType())"
   ]
  },
  {
   "cell_type": "code",
   "execution_count": 3,
   "metadata": {},
   "outputs": [],
   "source": [
    "security1 = eqt_connection.get_security('1233541', ('2019-01-01', '2019-12-31'))\n",
    "security2 = fund_connection.get_security('1233544', ('2019-01-01', '2019-12-31'))\n",
    "security3 = fund_connection.get_security('1923544', ('2019-01-01', '2019-12-31'))\n",
    "security4 = fund_connection.get_security('1713544', ('2019-01-01', '2019-12-31'))"
   ]
  },
  {
   "cell_type": "code",
   "execution_count": 4,
   "metadata": {},
   "outputs": [
    {
     "data": {
      "text/plain": [
       "0.9999999999999998"
      ]
     },
     "execution_count": 4,
     "metadata": {},
     "output_type": "execute_result"
    }
   ],
   "source": [
    "from portana.analyzer import equity_analyzer\n",
    "analyzer = equity_analyzer.EquityAnalyzer()\n",
    "analyzer.add_security(security1)\n",
    "analyzer.add_security(security2)\n",
    "analyzer.add_security(security3)\n",
    "analyzer.add_security(security4)\n",
    "\n",
    "analyzer.get_betas('px')[0].results[0,0]"
   ]
  },
  {
   "cell_type": "code",
   "execution_count": 5,
   "metadata": {},
   "outputs": [],
   "source": [
    "from portana.portfolio import portfolio\n",
    "port = portfolio.Portfolio()\n",
    "\n",
    "port.add_security(security1, 0.1)\n",
    "port.add_security(security2, 0.25)\n",
    "port.add_security(security3, 0.30)\n",
    "port.add_security(security4, 0.35)\n",
    "\n",
    "port.set_rebal(True, \"M\")\n",
    "port.set_starting_nav(100000)"
   ]
  },
  {
   "cell_type": "code",
   "execution_count": null,
   "metadata": {},
   "outputs": [],
   "source": []
  },
  {
   "cell_type": "code",
   "execution_count": 7,
   "metadata": {},
   "outputs": [],
   "source": [
    "q = simulated.SimQuery(\"equity\", {\"geography\": \"Canada\"}, \"5y_sharpe\", 2, 0)"
   ]
  },
  {
   "cell_type": "code",
   "execution_count": 8,
   "metadata": {},
   "outputs": [
    {
     "data": {
      "text/plain": [
       "{'16366': {'name': 'Simulated Security 16366',\n",
       "  'ticker': 'W',\n",
       "  'sector': 'Industrials',\n",
       "  'geography': 'Canada',\n",
       "  '5y_sharpe': 221.8231716},\n",
       " '19527': {'name': 'Simulated Security 19527',\n",
       "  'ticker': 'FP',\n",
       "  'sector': 'Industrials',\n",
       "  'geography': 'Canada',\n",
       "  '5y_sharpe': 170.7695025}}"
      ]
     },
     "execution_count": 8,
     "metadata": {},
     "output_type": "execute_result"
    }
   ],
   "source": [
    "q.send_query()"
   ]
  },
  {
   "cell_type": "code",
   "execution_count": null,
   "metadata": {},
   "outputs": [],
   "source": []
  }
 ],
 "metadata": {
  "kernelspec": {
   "display_name": "portana",
   "language": "python",
   "name": "portana"
  },
  "language_info": {
   "codemirror_mode": {
    "name": "ipython",
    "version": 3
   },
   "file_extension": ".py",
   "mimetype": "text/x-python",
   "name": "python",
   "nbconvert_exporter": "python",
   "pygments_lexer": "ipython3",
   "version": "3.8.5"
  }
 },
 "nbformat": 4,
 "nbformat_minor": 4
}
