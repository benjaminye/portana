{
 "cells": [
  {
   "cell_type": "code",
   "execution_count": 1,
   "metadata": {},
   "outputs": [],
   "source": [
    "from portana.data import simulated"
   ]
  },
  {
   "cell_type": "code",
   "execution_count": 2,
   "metadata": {},
   "outputs": [],
   "source": [
    "connection = simulated.SimConnection()\n",
    "connection.set_asset_type(simulated.EquityFundAssetType())"
   ]
  },
  {
   "cell_type": "code",
   "execution_count": 3,
   "metadata": {},
   "outputs": [],
   "source": [
    "security = connection.get_security('1233541', ('2019-01-01', '2019-12-31'))"
   ]
  },
  {
   "cell_type": "code",
   "execution_count": 4,
   "metadata": {},
   "outputs": [
    {
     "data": {
      "text/plain": [
       "ISIN:   1233541 \n",
       "----------------------------------------- \n",
       "Name:  Simulated Security 1233541 \n",
       "----------------------------------------- \n",
       "Geography:  United States \n",
       "Strategy:  Income \n",
       "Risk:  High \n",
       "----------------------------------------- \n",
       "                Price  Total Return Index\n",
       "2019-01-01  96.200882          100.000000\n",
       "2019-01-02  92.898262           96.751758\n",
       "2019-01-03  96.114736          100.280455\n",
       "2019-01-04  93.830950           98.083009\n",
       "2019-01-05  96.123983          100.661215\n",
       "...               ...                 ...\n",
       "2019-12-27  79.828267          161.378436\n",
       "2019-12-28  77.762071          157.499710\n",
       "2019-12-29  76.433911          155.100712\n",
       "2019-12-30  78.551847          159.685087\n",
       "2019-12-31  78.261387          159.389726\n",
       "\n",
       "[365 rows x 2 columns]"
      ]
     },
     "execution_count": 4,
     "metadata": {},
     "output_type": "execute_result"
    }
   ],
   "source": [
    "security"
   ]
  },
  {
   "cell_type": "code",
   "execution_count": null,
   "metadata": {},
   "outputs": [],
   "source": []
  }
 ],
 "metadata": {
  "kernelspec": {
   "display_name": "portana",
   "language": "python",
   "name": "portana"
  },
  "language_info": {
   "codemirror_mode": {
    "name": "ipython",
    "version": 3
   },
   "file_extension": ".py",
   "mimetype": "text/x-python",
   "name": "python",
   "nbconvert_exporter": "python",
   "pygments_lexer": "ipython3",
   "version": "3.8.5"
  }
 },
 "nbformat": 4,
 "nbformat_minor": 4
}
