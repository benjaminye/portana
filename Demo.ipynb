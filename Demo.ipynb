{
 "cells": [
  {
   "cell_type": "code",
   "execution_count": 1,
   "metadata": {},
   "outputs": [],
   "source": [
    "from portana.data import simulated"
   ]
  },
  {
   "cell_type": "code",
   "execution_count": 2,
   "metadata": {},
   "outputs": [],
   "source": [
    "connection = simulated.SimConnection()\n",
    "connection.set_asset_type(simulated.EquityAssetType())"
   ]
  },
  {
   "cell_type": "code",
   "execution_count": 3,
   "metadata": {},
   "outputs": [],
   "source": [
    "security1 = connection.get_security('1233541', ('2019-01-01', '2019-12-31'))\n",
    "security2 = connection.get_security('1233544', ('2018-11-01', '2019-11-30'))\n",
    "index1 = connection.get_security('213154', ('2018-11-01', '2019-11-30'))"
   ]
  },
  {
   "cell_type": "code",
   "execution_count": null,
   "metadata": {},
   "outputs": [],
   "source": []
  },
  {
   "cell_type": "code",
   "execution_count": null,
   "metadata": {},
   "outputs": [],
   "source": []
  },
  {
   "cell_type": "code",
   "execution_count": 4,
   "metadata": {},
   "outputs": [],
   "source": [
    "from portana.analyzer import equity_analyzer"
   ]
  },
  {
   "cell_type": "code",
   "execution_count": 5,
   "metadata": {},
   "outputs": [],
   "source": [
    "analyzer = equity_analyzer.EquityAnalyzer()"
   ]
  },
  {
   "cell_type": "code",
   "execution_count": 6,
   "metadata": {},
   "outputs": [],
   "source": [
    "analyzer.add_security(security1)\n",
    "analyzer.add_security(security2)\n",
    "analyzer.set_comp_index(index1)"
   ]
  },
  {
   "cell_type": "code",
   "execution_count": 7,
   "metadata": {},
   "outputs": [
    {
     "data": {
      "text/plain": [
       "(             1233541   1233544\n",
       " 2019-01-02 -0.080860  0.002703\n",
       " 2019-01-03  0.091526  0.003335\n",
       " 2019-01-04 -0.054436 -0.001829\n",
       " 2019-01-05  0.066061 -0.005761\n",
       " 2019-01-06 -0.008353  0.011720\n",
       " ...              ...       ...\n",
       " 2019-11-26  0.090181 -0.011984\n",
       " 2019-11-27 -0.037020  0.007458\n",
       " 2019-11-28  0.084012  0.010236\n",
       " 2019-11-29 -0.020227  0.010559\n",
       " 2019-11-30  0.021164  0.007953\n",
       " \n",
       " [333 rows x 2 columns],\n",
       "               213154\n",
       " 2019-01-02  0.060974\n",
       " 2019-01-03 -0.004649\n",
       " 2019-01-04  0.083261\n",
       " 2019-01-05  0.042302\n",
       " 2019-01-06 -0.039531\n",
       " ...              ...\n",
       " 2019-11-26 -0.033025\n",
       " 2019-11-27  0.027167\n",
       " 2019-11-28  0.001681\n",
       " 2019-11-29 -0.032898\n",
       " 2019-11-30  0.010641\n",
       " \n",
       " [333 rows x 1 columns])"
      ]
     },
     "execution_count": 7,
     "metadata": {},
     "output_type": "execute_result"
    }
   ],
   "source": [
    "analyzer.get_returns('tr')"
   ]
  },
  {
   "cell_type": "code",
   "execution_count": null,
   "metadata": {},
   "outputs": [],
   "source": []
  }
 ],
 "metadata": {
  "kernelspec": {
   "display_name": "portana",
   "language": "python",
   "name": "portana"
  },
  "language_info": {
   "codemirror_mode": {
    "name": "ipython",
    "version": 3
   },
   "file_extension": ".py",
   "mimetype": "text/x-python",
   "name": "python",
   "nbconvert_exporter": "python",
   "pygments_lexer": "ipython3",
   "version": "3.8.5"
  }
 },
 "nbformat": 4,
 "nbformat_minor": 4
}
